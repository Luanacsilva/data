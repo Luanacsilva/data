{
  "nbformat": 4,
  "nbformat_minor": 0,
  "metadata": {
    "colab": {
      "provenance": []
    },
    "kernelspec": {
      "name": "python3",
      "display_name": "Python 3"
    },
    "language_info": {
      "name": "python"
    }
  },
  "cells": [
    {
      "cell_type": "markdown",
      "source": [
        "Classifique o tipo e escala de todas as variáveis da base de dados (numéricos e categóricos)"
      ],
      "metadata": {
        "id": "FGggjtcmgsLc"
      }
    },
    {
      "cell_type": "code",
      "source": [
        "import pandas as pd\n",
        "import chardet\n",
        "with open('seguro_de_vida.csv', 'rb') as f:\n",
        "  data = f.read()\n",
        "\n",
        "  encoding_result = chardet.detect(data)\n",
        "  encoding = encoding_result['encoding']\n",
        "print(\"detected Encoding:\", encoding)"
      ],
      "metadata": {
        "colab": {
          "base_uri": "https://localhost:8080/"
        },
        "id": "22H_drv0gt8l",
        "outputId": "f38694ba-c0cb-4a97-90db-49e2a4f7f29b"
      },
      "execution_count": 2,
      "outputs": [
        {
          "output_type": "stream",
          "name": "stdout",
          "text": [
            "detected Encoding: ascii\n"
          ]
        }
      ]
    },
    {
      "cell_type": "markdown",
      "source": [
        "Salvar a tabela de seguros em variável"
      ],
      "metadata": {
        "id": "b4M2FS82jj3G"
      }
    },
    {
      "cell_type": "code",
      "source": [
        "# Carregando dados\n",
        "dados = pd.read_csv('seguro_de_vida.csv', encoding=encoding, sep=',')"
      ],
      "metadata": {
        "id": "Dw0bFEJljlJN"
      },
      "execution_count": 3,
      "outputs": []
    },
    {
      "cell_type": "code",
      "source": [
        "print(dados.head())  # Mostra as primeiras 5 linhas do DataFrame\n",
        "print(dados.info())  # Mostra informações sobre o DataFrame"
      ],
      "metadata": {
        "colab": {
          "base_uri": "https://localhost:8080/"
        },
        "id": "P_2flqTFjrSM",
        "outputId": "5ae26583-0dcc-4a66-aa44-328b0a6d375b"
      },
      "execution_count": 4,
      "outputs": [
        {
          "output_type": "stream",
          "name": "stdout",
          "text": [
            "   idade       sexo     imc  filhos fumante    regiao     despesas\n",
            "0     19   feminino  27.900       0     sim  sudoeste  16884.92400\n",
            "1     18  masculino  33.770       1     nao   sudeste   1725.55230\n",
            "2     28  masculino  33.000       3     nao   sudeste   4449.46200\n",
            "3     33  masculino  22.705       0     nao  noroeste  21984.47061\n",
            "4     32  masculino  28.880       0     nao  noroeste   3866.85520\n",
            "<class 'pandas.core.frame.DataFrame'>\n",
            "RangeIndex: 1338 entries, 0 to 1337\n",
            "Data columns (total 7 columns):\n",
            " #   Column    Non-Null Count  Dtype  \n",
            "---  ------    --------------  -----  \n",
            " 0   idade     1338 non-null   int64  \n",
            " 1   sexo      1338 non-null   object \n",
            " 2   imc       1338 non-null   float64\n",
            " 3   filhos    1338 non-null   int64  \n",
            " 4   fumante   1338 non-null   object \n",
            " 5   regiao    1338 non-null   object \n",
            " 6   despesas  1338 non-null   float64\n",
            "dtypes: float64(2), int64(2), object(3)\n",
            "memory usage: 73.3+ KB\n",
            "None\n"
          ]
        }
      ]
    },
    {
      "cell_type": "markdown",
      "source": [
        "A base possui valores faltantes (missing values)?"
      ],
      "metadata": {
        "id": "mUCJE7Cpj3LR"
      }
    },
    {
      "cell_type": "code",
      "source": [
        "dados.isnull().sum()"
      ],
      "metadata": {
        "colab": {
          "base_uri": "https://localhost:8080/",
          "height": 303
        },
        "id": "C2P0E6UGj4Xn",
        "outputId": "95f6d798-53bf-4375-e112-bbd6af4cc753"
      },
      "execution_count": 5,
      "outputs": [
        {
          "output_type": "execute_result",
          "data": {
            "text/plain": [
              "idade       0\n",
              "sexo        0\n",
              "imc         0\n",
              "filhos      0\n",
              "fumante     0\n",
              "regiao      0\n",
              "despesas    0\n",
              "dtype: int64"
            ],
            "text/html": [
              "<div>\n",
              "<style scoped>\n",
              "    .dataframe tbody tr th:only-of-type {\n",
              "        vertical-align: middle;\n",
              "    }\n",
              "\n",
              "    .dataframe tbody tr th {\n",
              "        vertical-align: top;\n",
              "    }\n",
              "\n",
              "    .dataframe thead th {\n",
              "        text-align: right;\n",
              "    }\n",
              "</style>\n",
              "<table border=\"1\" class=\"dataframe\">\n",
              "  <thead>\n",
              "    <tr style=\"text-align: right;\">\n",
              "      <th></th>\n",
              "      <th>0</th>\n",
              "    </tr>\n",
              "  </thead>\n",
              "  <tbody>\n",
              "    <tr>\n",
              "      <th>idade</th>\n",
              "      <td>0</td>\n",
              "    </tr>\n",
              "    <tr>\n",
              "      <th>sexo</th>\n",
              "      <td>0</td>\n",
              "    </tr>\n",
              "    <tr>\n",
              "      <th>imc</th>\n",
              "      <td>0</td>\n",
              "    </tr>\n",
              "    <tr>\n",
              "      <th>filhos</th>\n",
              "      <td>0</td>\n",
              "    </tr>\n",
              "    <tr>\n",
              "      <th>fumante</th>\n",
              "      <td>0</td>\n",
              "    </tr>\n",
              "    <tr>\n",
              "      <th>regiao</th>\n",
              "      <td>0</td>\n",
              "    </tr>\n",
              "    <tr>\n",
              "      <th>despesas</th>\n",
              "      <td>0</td>\n",
              "    </tr>\n",
              "  </tbody>\n",
              "</table>\n",
              "</div><br><label><b>dtype:</b> int64</label>"
            ]
          },
          "metadata": {},
          "execution_count": 5
        }
      ]
    },
    {
      "cell_type": "markdown",
      "source": [
        "A Base de Dados não tem valores faltantes"
      ],
      "metadata": {
        "id": "l1B_cJh1j9xS"
      }
    },
    {
      "cell_type": "markdown",
      "source": [
        "Informe as medidas descritivas das variáveis numéricas da base de dados (média, mediana, desvio padrão, quartis)."
      ],
      "metadata": {
        "id": "KQ_Q-BPSkERU"
      }
    },
    {
      "cell_type": "code",
      "source": [
        "# Exibir as estatísticas descritivas das variáveis numéricas\n",
        "dados_descritivos_numericos = dados.describe()\n",
        "print(dados_descritivos_numericos)\n",
        "\n",
        "# Dados que não podem ser convertidos para numéricos viram NaN.\n",
        "dados = dados.apply(pd.to_numeric, errors='coerce')\n",
        "\n",
        "# Calcular a média\n",
        "media = dados.mean()\n",
        "print(\"Média de cada variável numérica:\")\n",
        "print(media)\n",
        "\n",
        "# Calcular a mediana\n",
        "mediana = dados.median()\n",
        "print(\"\\nMediana de cada variável numérica:\")\n",
        "print(mediana)\n",
        "\n",
        "# Calcular o desvio padrão\n",
        "desvio_padrao = dados.std()\n",
        "print(\"\\nDesvio padrão de cada variável numérica:\")\n",
        "print(desvio_padrao)\n",
        "\n",
        "# Calcular os quartis (25%, 50%, 75%)\n",
        "quartis = dados.quantile([0.25, 0.50, 0.75])\n",
        "print(\"\\nQuartis de cada variável numérica (25%, 50% - mediana, 75%):\")\n",
        "print(quartis)"
      ],
      "metadata": {
        "colab": {
          "base_uri": "https://localhost:8080/"
        },
        "id": "dG2E2SyDkKWg",
        "outputId": "a963c9e8-d399-429e-c077-da2aed9ed985"
      },
      "execution_count": 6,
      "outputs": [
        {
          "output_type": "stream",
          "name": "stdout",
          "text": [
            "             idade          imc       filhos      despesas\n",
            "count  1338.000000  1338.000000  1338.000000   1338.000000\n",
            "mean     39.207025    30.663397     1.094918  13270.422265\n",
            "std      14.049960     6.098187     1.205493  12110.011237\n",
            "min      18.000000    15.960000     0.000000   1121.873900\n",
            "25%      27.000000    26.296250     0.000000   4740.287150\n",
            "50%      39.000000    30.400000     1.000000   9382.033000\n",
            "75%      51.000000    34.693750     2.000000  16639.912515\n",
            "max      64.000000    53.130000     5.000000  63770.428010\n",
            "Média de cada variável numérica:\n",
            "idade          39.207025\n",
            "sexo                 NaN\n",
            "imc            30.663397\n",
            "filhos          1.094918\n",
            "fumante              NaN\n",
            "regiao               NaN\n",
            "despesas    13270.422265\n",
            "dtype: float64\n",
            "\n",
            "Mediana de cada variável numérica:\n",
            "idade         39.000\n",
            "sexo             NaN\n",
            "imc           30.400\n",
            "filhos         1.000\n",
            "fumante          NaN\n",
            "regiao           NaN\n",
            "despesas    9382.033\n",
            "dtype: float64\n",
            "\n",
            "Desvio padrão de cada variável numérica:\n",
            "idade          14.049960\n",
            "sexo                 NaN\n",
            "imc             6.098187\n",
            "filhos          1.205493\n",
            "fumante              NaN\n",
            "regiao               NaN\n",
            "despesas    12110.011237\n",
            "dtype: float64\n",
            "\n",
            "Quartis de cada variável numérica (25%, 50% - mediana, 75%):\n",
            "      idade  sexo       imc  filhos  fumante  regiao      despesas\n",
            "0.25   27.0   NaN  26.29625     0.0      NaN     NaN   4740.287150\n",
            "0.50   39.0   NaN  30.40000     1.0      NaN     NaN   9382.033000\n",
            "0.75   51.0   NaN  34.69375     2.0      NaN     NaN  16639.912515\n"
          ]
        }
      ]
    },
    {
      "cell_type": "markdown",
      "source": [
        "Informe as medias descritivas das variáveis categóricasda base de dados. Use o comando dados.describe(include=object)"
      ],
      "metadata": {
        "id": "gTerb-_bkP4I"
      }
    },
    {
      "cell_type": "code",
      "source": [
        "# Verificando as colunas categóricas uma por uma\n",
        "for coluna in ['sexo', 'fumante', 'regiao']:\n",
        "    if coluna in dados.columns and dados[coluna].dtype == 'object':\n",
        "        print(f\"Descrição da coluna '{coluna}':\")\n",
        "        print(dados[coluna].describe())\n",
        "        print(\"\\n\")\n",
        "    else:\n",
        "        print(f\"A coluna '{coluna}' não é categórica ou não existe no DataFrame.\")\n"
      ],
      "metadata": {
        "colab": {
          "base_uri": "https://localhost:8080/"
        },
        "id": "sNJgdKOskQ4b",
        "outputId": "f6390206-cfed-4bea-f85e-db361a325ec9"
      },
      "execution_count": 9,
      "outputs": [
        {
          "output_type": "stream",
          "name": "stdout",
          "text": [
            "A coluna 'sexo' não é categórica ou não existe no DataFrame.\n",
            "A coluna 'fumante' não é categórica ou não existe no DataFrame.\n",
            "A coluna 'regiao' não é categórica ou não existe no DataFrame.\n"
          ]
        }
      ]
    },
    {
      "cell_type": "markdown",
      "source": [
        "Qual o número de filhos mais frequente na base de dados?"
      ],
      "metadata": {
        "id": "yvU9Aw_3kqvv"
      }
    },
    {
      "cell_type": "code",
      "source": [
        "# Encontrar o número de filhos mais frequente (moda)\n",
        "filhos_mais_frequente = dados['filhos'].mode()[0]\n",
        "print(f\"Número de filhos mais frequente na base de dados: {filhos_mais_frequente}\")"
      ],
      "metadata": {
        "colab": {
          "base_uri": "https://localhost:8080/"
        },
        "id": "3zxXr2fvksCq",
        "outputId": "86b56fed-30ac-4f13-cf03-dc14b1780898"
      },
      "execution_count": null,
      "outputs": [
        {
          "output_type": "stream",
          "name": "stdout",
          "text": [
            "Número de filhos mais frequente na base de dados: 0\n"
          ]
        }
      ]
    },
    {
      "cell_type": "markdown",
      "source": [
        "Qual o percentual de clientes fumantes na base de dados?"
      ],
      "metadata": {
        "id": "tEAMXzlHkw3a"
      }
    },
    {
      "cell_type": "code",
      "source": [
        "# 1. Contar o número total de clientes fumantes (\"sim\").\n",
        "# 2. Dividir esse valor pelo número total de clientes e multiplicar por 100 para obter o percentual.\n",
        "\n",
        "# Número total de clientes\n",
        "total_clientes = len(dados)\n",
        "\n",
        "# Número de clientes fumantes\n",
        "total_fumantes = len(dados[dados['fumante'] == 'sim'])\n",
        "\n",
        "# Percentual de fumantes\n",
        "percentual_fumantes = (total_fumantes / total_clientes) * 100\n",
        "print(f\"Percentual de clientes fumantes: {percentual_fumantes:.2f}%\")"
      ],
      "metadata": {
        "colab": {
          "base_uri": "https://localhost:8080/"
        },
        "id": "YBXU3PJakxq5",
        "outputId": "a5cd4ce5-2f67-408c-f255-aacfe3cc66cd"
      },
      "execution_count": null,
      "outputs": [
        {
          "output_type": "stream",
          "name": "stdout",
          "text": [
            "Percentual de clientes fumantes: 0.00%\n"
          ]
        }
      ]
    },
    {
      "cell_type": "markdown",
      "source": [
        "Quantas categorias há na variável região? Informe a quantidade de cada categoria. Use o comando dados[‘regiao’].value_counts()"
      ],
      "metadata": {
        "id": "LJVUYpCDk3kt"
      }
    },
    {
      "cell_type": "code",
      "source": [
        "# Contar quantas categorias existem na variável 'região' e a quantidade de cada uma\n",
        "contagem_regioes = dados['regiao'].value_counts()\n",
        "print(contagem_regioes)"
      ],
      "metadata": {
        "colab": {
          "base_uri": "https://localhost:8080/"
        },
        "id": "846FalYck4mC",
        "outputId": "8d33c895-6aef-43ed-bb1d-0c35e8cfd73d"
      },
      "execution_count": null,
      "outputs": [
        {
          "output_type": "stream",
          "name": "stdout",
          "text": [
            "Series([], Name: count, dtype: int64)\n"
          ]
        }
      ]
    }
  ]
}